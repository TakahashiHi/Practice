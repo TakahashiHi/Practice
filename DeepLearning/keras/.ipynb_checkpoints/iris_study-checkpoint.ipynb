{
 "cells": [
  {
   "cell_type": "code",
   "execution_count": 2,
   "metadata": {
    "collapsed": false
   },
   "outputs": [],
   "source": [
    "from keras.models import Sequential\n",
    "from keras.layers.core import Dense, Activation\n",
    "\n",
    "from sklearn import datasets"
   ]
  },
  {
   "cell_type": "code",
   "execution_count": 3,
   "metadata": {
    "collapsed": true
   },
   "outputs": [],
   "source": [
    "# モデルの定義\n",
    "model = Sequential()"
   ]
  },
  {
   "cell_type": "code",
   "execution_count": 5,
   "metadata": {
    "collapsed": false
   },
   "outputs": [
    {
     "name": "stderr",
     "output_type": "stream",
     "text": [
      "/Users/takahashihiroki/.pyenv/versions/anaconda-2.4.0/lib/python2.7/site-packages/ipykernel/__main__.py:2: UserWarning: Update your `Dense` call to the Keras 2 API: `Dense(units=8, input_dim=4)`\n",
      "  from ipykernel import kernelapp as app\n"
     ]
    }
   ],
   "source": [
    "# 隠れ層の定義\n",
    "model.add(Dense(input_dim = 4, output_dim = 8))\n",
    "\n",
    "# 隠れ層の活性化関数\n",
    "model.add(Activation('relu'))"
   ]
  },
  {
   "cell_type": "code",
   "execution_count": 6,
   "metadata": {
    "collapsed": false
   },
   "outputs": [
    {
     "name": "stderr",
     "output_type": "stream",
     "text": [
      "/Users/takahashihiroki/.pyenv/versions/anaconda-2.4.0/lib/python2.7/site-packages/ipykernel/__main__.py:2: UserWarning: Update your `Dense` call to the Keras 2 API: `Dense(units=3)`\n",
      "  from ipykernel import kernelapp as app\n"
     ]
    }
   ],
   "source": [
    "# 出力層の定義\n",
    "model.add(Dense(output_dim = 3))\n",
    "\n",
    "# 出力層の活性化関数\n",
    "model.add(Activation('softmax'))"
   ]
  },
  {
   "cell_type": "code",
   "execution_count": 7,
   "metadata": {
    "collapsed": true
   },
   "outputs": [],
   "source": [
    "model.compile(loss = 'sparse_categorical_crossentropy', optimizer = 'sgd', metrics = ['accuracy'])"
   ]
  },
  {
   "cell_type": "code",
   "execution_count": 8,
   "metadata": {
    "collapsed": true
   },
   "outputs": [],
   "source": [
    "iris = datasets.load_iris()"
   ]
  },
  {
   "cell_type": "code",
   "execution_count": 9,
   "metadata": {
    "collapsed": false,
    "scrolled": false
   },
   "outputs": [
    {
     "name": "stdout",
     "output_type": "stream",
     "text": [
      "Epoch 1/50\n",
      "150/150 [==============================] - 0s - loss: 0.8940 - acc: 0.5400     \n",
      "Epoch 2/50\n",
      "150/150 [==============================] - 0s - loss: 0.5324 - acc: 0.7000     \n",
      "Epoch 3/50\n",
      "150/150 [==============================] - 0s - loss: 0.4303 - acc: 0.7733     \n",
      "Epoch 4/50\n",
      "150/150 [==============================] - 0s - loss: 0.3951 - acc: 0.8133     \n",
      "Epoch 5/50\n",
      "150/150 [==============================] - 0s - loss: 0.3320 - acc: 0.8133     \n",
      "Epoch 6/50\n",
      "150/150 [==============================] - 0s - loss: 0.3013 - acc: 0.8400     \n",
      "Epoch 7/50\n",
      "150/150 [==============================] - 0s - loss: 0.2678 - acc: 0.8800     \n",
      "Epoch 8/50\n",
      "150/150 [==============================] - 0s - loss: 0.1912 - acc: 0.9333     \n",
      "Epoch 9/50\n",
      "150/150 [==============================] - 0s - loss: 0.2438 - acc: 0.8867     \n",
      "Epoch 10/50\n",
      "150/150 [==============================] - 0s - loss: 0.2505 - acc: 0.8933     \n",
      "Epoch 11/50\n",
      "150/150 [==============================] - 0s - loss: 0.2060 - acc: 0.9000     \n",
      "Epoch 12/50\n",
      "150/150 [==============================] - 0s - loss: 0.2109 - acc: 0.9333     \n",
      "Epoch 13/50\n",
      "150/150 [==============================] - 0s - loss: 0.1720 - acc: 0.9133     \n",
      "Epoch 14/50\n",
      "150/150 [==============================] - 0s - loss: 0.1488 - acc: 0.9333     \n",
      "Epoch 15/50\n",
      "150/150 [==============================] - 0s - loss: 0.2026 - acc: 0.9267     \n",
      "Epoch 16/50\n",
      "150/150 [==============================] - 0s - loss: 0.1736 - acc: 0.9200     \n",
      "Epoch 17/50\n",
      "150/150 [==============================] - 0s - loss: 0.1860 - acc: 0.9067     \n",
      "Epoch 18/50\n",
      "150/150 [==============================] - 0s - loss: 0.1706 - acc: 0.9267     \n",
      "Epoch 19/50\n",
      "150/150 [==============================] - 0s - loss: 0.1517 - acc: 0.9333     \n",
      "Epoch 20/50\n",
      "150/150 [==============================] - 0s - loss: 0.1675 - acc: 0.9400     \n",
      "Epoch 21/50\n",
      "150/150 [==============================] - 0s - loss: 0.1384 - acc: 0.9400     \n",
      "Epoch 22/50\n",
      "150/150 [==============================] - 0s - loss: 0.1636 - acc: 0.9133     \n",
      "Epoch 23/50\n",
      "150/150 [==============================] - 0s - loss: 0.1141 - acc: 0.9600     \n",
      "Epoch 24/50\n",
      "150/150 [==============================] - 0s - loss: 0.1666 - acc: 0.9267     \n",
      "Epoch 25/50\n",
      "150/150 [==============================] - 0s - loss: 0.1550 - acc: 0.9200     \n",
      "Epoch 26/50\n",
      "150/150 [==============================] - 0s - loss: 0.1251 - acc: 0.9533     \n",
      "Epoch 27/50\n",
      "150/150 [==============================] - 0s - loss: 0.1590 - acc: 0.9533     \n",
      "Epoch 28/50\n",
      "150/150 [==============================] - 0s - loss: 0.1208 - acc: 0.9467     \n",
      "Epoch 29/50\n",
      "150/150 [==============================] - 0s - loss: 0.1334 - acc: 0.9333     \n",
      "Epoch 30/50\n",
      "150/150 [==============================] - 0s - loss: 0.1365 - acc: 0.9467     \n",
      "Epoch 31/50\n",
      "150/150 [==============================] - 0s - loss: 0.1233 - acc: 0.9600     \n",
      "Epoch 32/50\n",
      "150/150 [==============================] - 0s - loss: 0.1197 - acc: 0.9667     \n",
      "Epoch 33/50\n",
      "150/150 [==============================] - 0s - loss: 0.1242 - acc: 0.9533     \n",
      "Epoch 34/50\n",
      "150/150 [==============================] - 0s - loss: 0.1373 - acc: 0.9400     \n",
      "Epoch 35/50\n",
      "150/150 [==============================] - 0s - loss: 0.1052 - acc: 0.9533     \n",
      "Epoch 36/50\n",
      "150/150 [==============================] - 0s - loss: 0.1321 - acc: 0.9400     \n",
      "Epoch 37/50\n",
      "150/150 [==============================] - 0s - loss: 0.1439 - acc: 0.9400     \n",
      "Epoch 38/50\n",
      "150/150 [==============================] - 0s - loss: 0.1539 - acc: 0.9533     \n",
      "Epoch 39/50\n",
      "150/150 [==============================] - 0s - loss: 0.1296 - acc: 0.9400     \n",
      "Epoch 40/50\n",
      "150/150 [==============================] - 0s - loss: 0.1051 - acc: 0.9600     \n",
      "Epoch 41/50\n",
      "150/150 [==============================] - 0s - loss: 0.1077 - acc: 0.9600     \n",
      "Epoch 42/50\n",
      "150/150 [==============================] - 0s - loss: 0.1287 - acc: 0.9467     \n",
      "Epoch 43/50\n",
      "150/150 [==============================] - 0s - loss: 0.1378 - acc: 0.9400     \n",
      "Epoch 44/50\n",
      "150/150 [==============================] - 0s - loss: 0.1291 - acc: 0.9400     \n",
      "Epoch 45/50\n",
      "150/150 [==============================] - 0s - loss: 0.0853 - acc: 0.9667     \n",
      "Epoch 46/50\n",
      "150/150 [==============================] - 0s - loss: 0.1451 - acc: 0.9467     \n",
      "Epoch 47/50\n",
      "150/150 [==============================] - 0s - loss: 0.1145 - acc: 0.9667     \n",
      "Epoch 48/50\n",
      "150/150 [==============================] - 0s - loss: 0.1025 - acc: 0.9600     \n",
      "Epoch 49/50\n",
      "150/150 [==============================] - 0s - loss: 0.1053 - acc: 0.9400     \n",
      "Epoch 50/50\n",
      "150/150 [==============================] - 0s - loss: 0.1175 - acc: 0.9467     \n"
     ]
    },
    {
     "name": "stderr",
     "output_type": "stream",
     "text": [
      "/Users/takahashihiroki/.pyenv/versions/anaconda-2.4.0/lib/python2.7/site-packages/keras/models.py:834: UserWarning: The `nb_epoch` argument in `fit` has been renamed `epochs`.\n",
      "  warnings.warn('The `nb_epoch` argument in `fit` '\n"
     ]
    },
    {
     "data": {
      "text/plain": [
       "<keras.callbacks.History at 0x10904c4d0>"
      ]
     },
     "execution_count": 9,
     "metadata": {},
     "output_type": "execute_result"
    }
   ],
   "source": [
    "# 学習\n",
    "model.fit(iris.data, iris.target, nb_epoch = 50, batch_size = 1)"
   ]
  },
  {
   "cell_type": "code",
   "execution_count": null,
   "metadata": {
    "collapsed": true
   },
   "outputs": [],
   "source": []
  }
 ],
 "metadata": {
  "kernelspec": {
   "display_name": "Python 2",
   "language": "python",
   "name": "python2"
  },
  "language_info": {
   "codemirror_mode": {
    "name": "ipython",
    "version": 2
   },
   "file_extension": ".py",
   "mimetype": "text/x-python",
   "name": "python",
   "nbconvert_exporter": "python",
   "pygments_lexer": "ipython2",
   "version": "2.7.12"
  }
 },
 "nbformat": 4,
 "nbformat_minor": 0
}
