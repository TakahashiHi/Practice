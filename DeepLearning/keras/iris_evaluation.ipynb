{
 "cells": [
  {
   "cell_type": "code",
   "execution_count": 1,
   "metadata": {
    "collapsed": false
   },
   "outputs": [
    {
     "name": "stderr",
     "output_type": "stream",
     "text": [
      "Using Theano backend.\n"
     ]
    }
   ],
   "source": [
    "import sys\n",
    "\n",
    "from keras.models import Sequential\n",
    "from keras.layers.core import Dense, Activation\n",
    "\n",
    "from sklearn import datasets\n",
    "import numpy as np"
   ]
  },
  {
   "cell_type": "code",
   "execution_count": 2,
   "metadata": {
    "collapsed": true
   },
   "outputs": [],
   "source": [
    "# 学習・評価用のデータ分割率\n",
    "trainEvalRate = 0.7"
   ]
  },
  {
   "cell_type": "code",
   "execution_count": 5,
   "metadata": {
    "collapsed": false
   },
   "outputs": [],
   "source": [
    "# 学習の繰り返し回数\n",
    "epoch = 50\n",
    "# epoch = int(sys.argv[1])\n",
    "\n",
    "# 隠れ層のニューロン数\n",
    "neuNum = 6\n",
    "# neuNum = int(sys.argv[2])\n",
    "\n",
    "# 隠れ層の活性化関数\n",
    "act = 'sigmoid'\n",
    "# act = sys.argv[3]\n",
    "\n",
    "optm = 'adam'\n",
    "# optm = sys.argv[4]"
   ]
  },
  {
   "cell_type": "code",
   "execution_count": 6,
   "metadata": {
    "collapsed": false
   },
   "outputs": [
    {
     "name": "stderr",
     "output_type": "stream",
     "text": [
      "/Users/takahashihiroki/.pyenv/versions/anaconda-2.4.0/lib/python2.7/site-packages/ipykernel/__main__.py:3: UserWarning: Update your `Dense` call to the Keras 2 API: `Dense(units=6, input_dim=4)`\n",
      "  app.launch_new_instance()\n",
      "/Users/takahashihiroki/.pyenv/versions/anaconda-2.4.0/lib/python2.7/site-packages/ipykernel/__main__.py:6: UserWarning: Update your `Dense` call to the Keras 2 API: `Dense(units=3)`\n"
     ]
    }
   ],
   "source": [
    "model = Sequential()\n",
    "\n",
    "model.add(Dense(input_dim = 4, output_dim = neuNum))\n",
    "model.add(Activation(act))\n",
    "\n",
    "model.add(Dense(output_dim = 3))\n",
    "model.add(Activation('softmax'))\n",
    "\n",
    "model.compile(\n",
    "    loss = 'sparse_categorical_crossentropy', \n",
    "    optimizer = optm, \n",
    "    metrics = ['accuracy']\n",
    "    )"
   ]
  },
  {
   "cell_type": "code",
   "execution_count": 18,
   "metadata": {
    "collapsed": true
   },
   "outputs": [],
   "source": [
    "iris = datasets.load_iris()"
   ]
  },
  {
   "cell_type": "code",
   "execution_count": 19,
   "metadata": {
    "collapsed": true
   },
   "outputs": [],
   "source": [
    "data_size = len(iris.data)\n",
    "train_size = int(data_size * trainEvalRate)"
   ]
  },
  {
   "cell_type": "code",
   "execution_count": 20,
   "metadata": {
    "collapsed": true
   },
   "outputs": [],
   "source": [
    "perm = np.random.permutation(data_size)"
   ]
  },
  {
   "cell_type": "code",
   "execution_count": 21,
   "metadata": {
    "collapsed": true
   },
   "outputs": [],
   "source": [
    "# 学習用データ\n",
    "x_train = iris.data[ perm[0:train_size] ]\n",
    "y_train = iris.target[ perm[0:train_size] ]"
   ]
  },
  {
   "cell_type": "code",
   "execution_count": 22,
   "metadata": {
    "collapsed": false,
    "scrolled": false
   },
   "outputs": [
    {
     "name": "stdout",
     "output_type": "stream",
     "text": [
      "Epoch 1/50\n",
      "105/105 [==============================] - 0s - loss: 0.1139 - acc: 0.9714     \n",
      "Epoch 2/50\n",
      "105/105 [==============================] - 0s - loss: 0.1158 - acc: 0.9810     \n",
      "Epoch 3/50\n",
      "105/105 [==============================] - 0s - loss: 0.1142 - acc: 0.9714     \n",
      "Epoch 4/50\n",
      "105/105 [==============================] - 0s - loss: 0.1133 - acc: 0.9810     \n",
      "Epoch 5/50\n",
      "105/105 [==============================] - 0s - loss: 0.1110 - acc: 0.9810     \n",
      "Epoch 6/50\n",
      "105/105 [==============================] - 0s - loss: 0.1115 - acc: 0.9619     \n",
      "Epoch 7/50\n",
      "105/105 [==============================] - 0s - loss: 0.1093 - acc: 0.9810     \n",
      "Epoch 8/50\n",
      "105/105 [==============================] - 0s - loss: 0.1095 - acc: 0.9619     \n",
      "Epoch 9/50\n",
      "105/105 [==============================] - 0s - loss: 0.1051 - acc: 0.9905     \n",
      "Epoch 10/50\n",
      "105/105 [==============================] - 0s - loss: 0.1078 - acc: 0.9714     \n",
      "Epoch 11/50\n",
      "105/105 [==============================] - 0s - loss: 0.1087 - acc: 0.9619     \n",
      "Epoch 12/50\n",
      "105/105 [==============================] - 0s - loss: 0.1058 - acc: 0.9714     \n",
      "Epoch 13/50\n",
      "105/105 [==============================] - 0s - loss: 0.1035 - acc: 0.9905     \n",
      "Epoch 14/50\n",
      "105/105 [==============================] - 0s - loss: 0.1030 - acc: 0.9714     \n",
      "Epoch 15/50\n",
      "105/105 [==============================] - 0s - loss: 0.1039 - acc: 0.9714     \n",
      "Epoch 16/50\n",
      "105/105 [==============================] - 0s - loss: 0.1014 - acc: 0.9905     \n",
      "Epoch 17/50\n",
      "105/105 [==============================] - 0s - loss: 0.1010 - acc: 0.9714     \n",
      "Epoch 18/50\n",
      "105/105 [==============================] - 0s - loss: 0.1021 - acc: 0.9714     \n",
      "Epoch 19/50\n",
      "105/105 [==============================] - 0s - loss: 0.1002 - acc: 0.9810     \n",
      "Epoch 20/50\n",
      "105/105 [==============================] - 0s - loss: 0.0991 - acc: 0.9714     \n",
      "Epoch 21/50\n",
      "105/105 [==============================] - 0s - loss: 0.0988 - acc: 0.9810     \n",
      "Epoch 22/50\n",
      "105/105 [==============================] - 0s - loss: 0.0967 - acc: 0.9714     \n",
      "Epoch 23/50\n",
      "105/105 [==============================] - 0s - loss: 0.0974 - acc: 0.9810     \n",
      "Epoch 24/50\n",
      "105/105 [==============================] - 0s - loss: 0.0953 - acc: 0.9810     \n",
      "Epoch 25/50\n",
      "105/105 [==============================] - 0s - loss: 0.0959 - acc: 0.9714     \n",
      "Epoch 26/50\n",
      "105/105 [==============================] - 0s - loss: 0.0967 - acc: 0.9810     \n",
      "Epoch 27/50\n",
      "105/105 [==============================] - 0s - loss: 0.0971 - acc: 0.9810     \n",
      "Epoch 28/50\n",
      "105/105 [==============================] - 0s - loss: 0.0959 - acc: 0.9714     \n",
      "Epoch 29/50\n",
      "105/105 [==============================] - 0s - loss: 0.0943 - acc: 0.9714     \n",
      "Epoch 30/50\n",
      "105/105 [==============================] - 0s - loss: 0.0937 - acc: 0.9714     \n",
      "Epoch 31/50\n",
      "105/105 [==============================] - 0s - loss: 0.0966 - acc: 0.9619     \n",
      "Epoch 32/50\n",
      "105/105 [==============================] - 0s - loss: 0.0938 - acc: 0.9714     \n",
      "Epoch 33/50\n",
      "105/105 [==============================] - 0s - loss: 0.0913 - acc: 0.9714     \n",
      "Epoch 34/50\n",
      "105/105 [==============================] - 0s - loss: 0.0921 - acc: 0.9714     \n",
      "Epoch 35/50\n",
      "105/105 [==============================] - 0s - loss: 0.0900 - acc: 0.9714     \n",
      "Epoch 36/50\n",
      "105/105 [==============================] - 0s - loss: 0.0890 - acc: 0.9714     \n",
      "Epoch 37/50\n",
      "105/105 [==============================] - 0s - loss: 0.0913 - acc: 0.9810     \n",
      "Epoch 38/50\n",
      "105/105 [==============================] - 0s - loss: 0.0886 - acc: 0.9714     \n",
      "Epoch 39/50\n",
      "105/105 [==============================] - 0s - loss: 0.0883 - acc: 0.9714     \n",
      "Epoch 40/50\n",
      "105/105 [==============================] - 0s - loss: 0.0910 - acc: 0.9714     \n",
      "Epoch 41/50\n",
      "105/105 [==============================] - 0s - loss: 0.0883 - acc: 0.9714     \n",
      "Epoch 42/50\n",
      "105/105 [==============================] - 0s - loss: 0.0863 - acc: 0.9810     \n",
      "Epoch 43/50\n",
      "105/105 [==============================] - 0s - loss: 0.0914 - acc: 0.9714     \n",
      "Epoch 44/50\n",
      "105/105 [==============================] - 0s - loss: 0.0870 - acc: 0.9714     \n",
      "Epoch 45/50\n",
      "105/105 [==============================] - 0s - loss: 0.0861 - acc: 0.9810     \n",
      "Epoch 46/50\n",
      "105/105 [==============================] - 0s - loss: 0.0847 - acc: 0.9714     \n",
      "Epoch 47/50\n",
      "105/105 [==============================] - 0s - loss: 0.0852 - acc: 0.9619     \n",
      "Epoch 48/50\n",
      "105/105 [==============================] - 0s - loss: 0.0840 - acc: 0.9810     \n",
      "Epoch 49/50\n",
      "105/105 [==============================] - 0s - loss: 0.0847 - acc: 0.9714     \n",
      "Epoch 50/50\n",
      "105/105 [==============================] - 0s - loss: 0.0875 - acc: 0.9714     \n",
      "-----\n",
      " 1/45 [..............................] - ETA: 0s[0.090515071913250728, 0.97777777777777775]\n"
     ]
    }
   ],
   "source": [
    "# 学習\n",
    "model.fit(x_train, y_train, nb_epoch = epoch, batch_size = 1)\n",
    "\n",
    "print('-----')\n",
    "\n",
    "# 評価用データ\n",
    "x_test = iris.data[ perm[train_size:] ]\n",
    "y_test = iris.target[ perm[train_size:] ]\n",
    "\n",
    "# 評価\n",
    "res = model.evaluate(x_test, y_test, batch_size = 1)\n",
    "\n",
    "print(res)"
   ]
  },
  {
   "cell_type": "code",
   "execution_count": null,
   "metadata": {
    "collapsed": true
   },
   "outputs": [],
   "source": []
  }
 ],
 "metadata": {
  "kernelspec": {
   "display_name": "Python 2",
   "language": "python",
   "name": "python2"
  },
  "language_info": {
   "codemirror_mode": {
    "name": "ipython",
    "version": 2
   },
   "file_extension": ".py",
   "mimetype": "text/x-python",
   "name": "python",
   "nbconvert_exporter": "python",
   "pygments_lexer": "ipython2",
   "version": "2.7.12"
  }
 },
 "nbformat": 4,
 "nbformat_minor": 0
}
